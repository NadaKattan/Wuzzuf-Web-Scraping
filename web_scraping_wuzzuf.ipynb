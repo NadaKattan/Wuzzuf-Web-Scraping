{
 "cells": [
  {
   "cell_type": "code",
   "execution_count": 1,
   "id": "ccd12813",
   "metadata": {},
   "outputs": [
    {
     "name": "stdout",
     "output_type": "stream",
     "text": [
      "Requirement already satisfied: requests in c:\\users\\oem\\anaconda3\\lib\\site-packages (2.27.1)\n",
      "Requirement already satisfied: charset-normalizer~=2.0.0 in c:\\users\\oem\\anaconda3\\lib\\site-packages (from requests) (2.0.4)\n",
      "Requirement already satisfied: idna<4,>=2.5 in c:\\users\\oem\\anaconda3\\lib\\site-packages (from requests) (3.3)\n",
      "Requirement already satisfied: urllib3<1.27,>=1.21.1 in c:\\users\\oem\\anaconda3\\lib\\site-packages (from requests) (1.26.9)\n",
      "Requirement already satisfied: certifi>=2017.4.17 in c:\\users\\oem\\anaconda3\\lib\\site-packages (from requests) (2021.10.8)\n",
      "Note: you may need to restart the kernel to use updated packages.\n"
     ]
    }
   ],
   "source": [
    "pip install requests"
   ]
  },
  {
   "cell_type": "code",
   "execution_count": 11,
   "id": "8585320a",
   "metadata": {},
   "outputs": [
    {
     "name": "stdout",
     "output_type": "stream",
     "text": [
      "Requirement already satisfied: bs4 in c:\\users\\oem\\anaconda3\\lib\\site-packages (0.0.1)Note: you may need to restart the kernel to use updated packages.\n",
      "\n",
      "Requirement already satisfied: beautifulsoup4 in c:\\users\\oem\\anaconda3\\lib\\site-packages (from bs4) (4.11.1)\n",
      "Requirement already satisfied: soupsieve>1.2 in c:\\users\\oem\\anaconda3\\lib\\site-packages (from beautifulsoup4->bs4) (2.3.1)\n"
     ]
    }
   ],
   "source": [
    "pip install bs4"
   ]
  },
  {
   "cell_type": "code",
   "execution_count": 12,
   "id": "66cedb3e",
   "metadata": {},
   "outputs": [],
   "source": [
    "import requests\n",
    "from bs4 import BeautifulSoup"
   ]
  },
  {
   "cell_type": "code",
   "execution_count": 33,
   "id": "9e83860a",
   "metadata": {},
   "outputs": [
    {
     "name": "stdout",
     "output_type": "stream",
     "text": [
      "<Response [200]>\n"
     ]
    }
   ],
   "source": [
    "url = 'https://wuzzuf.net/search/jobs/?a=spbg&q=data%20analysis'\n",
    "response = requests.get(url)\n",
    "  \n",
    "print(response)"
   ]
  },
  {
   "cell_type": "code",
   "execution_count": 38,
   "id": "aa982b3a",
   "metadata": {},
   "outputs": [],
   "source": [
    "soup = BeautifulSoup(response.content,'html.parser')"
   ]
  },
  {
   "cell_type": "code",
   "execution_count": 47,
   "id": "3fa2d8a1",
   "metadata": {},
   "outputs": [
    {
     "data": {
      "text/plain": [
       "[<h2 class=\"css-m604qf\"><style data-emotion=\"css o171kl\">.css-o171kl{-webkit-text-decoration:none;text-decoration:none;color:inherit;}</style><a class=\"css-o171kl\" href=\"/jobs/p/oOKRpUGGzzuO-Data-Analysis-Instructor-Excel---Power-BI-EpsilonAI-Cairo-Egypt?o=1&amp;l=sp&amp;t=sj&amp;a=data analysis|search-v3|spbg\" rel=\"noreferrer\" target=\"_blank\">Data Analysis Instructor (Excel - Power BI)</a></h2>,\n",
       " <h2 class=\"css-m604qf\"><a class=\"css-o171kl\" href=\"/jobs/p/R7KdIv7dCm0z-Senior-Data-Analyst---Cairo-Cairo-Egypt?o=2&amp;l=sp&amp;t=sj&amp;a=data analysis|search-v3|spbg\" rel=\"noreferrer\" target=\"_blank\">Senior Data Analyst - Cairo</a></h2>,\n",
       " <h2 class=\"css-m604qf\"><a class=\"css-o171kl\" href=\"/jobs/p/9AAaTU2msaG5-Data-Analyst-Hands-of-Hope-Physical-Therapy-Wellness-Cairo-Egypt?o=3&amp;l=sp&amp;t=sj&amp;a=data analysis|search-v3|spbg\" rel=\"noreferrer\" target=\"_blank\">Data Analyst</a></h2>,\n",
       " <h2 class=\"css-m604qf\"><a class=\"css-o171kl\" href=\"/jobs/p/adeG14H7rqQA-Data-Analyst-Gila-Electric-Cairo-Egypt?o=4&amp;l=sp&amp;t=sj&amp;a=data analysis|search-v3|spbg\" rel=\"noreferrer\" target=\"_blank\">Data Analyst</a></h2>,\n",
       " <h2 class=\"css-m604qf\"><a class=\"css-o171kl\" href=\"/jobs/p/PVAeMhWwvA6Q-Senior-Data-Scientist-Fixed-Solutions-Cairo-Egypt?o=5&amp;l=sp&amp;t=sj&amp;a=data analysis|search-v3|spbg\" rel=\"noreferrer\" target=\"_blank\">Senior Data Scientist</a></h2>,\n",
       " <h2 class=\"css-m604qf\"><a class=\"css-o171kl\" href=\"/jobs/p/Vd4JAvFk3kzv-Data-Engineer-Cilantro-Cairo-Egypt?o=6&amp;l=sp&amp;t=sj&amp;a=data analysis|search-v3|spbg\" rel=\"noreferrer\" target=\"_blank\">Data Engineer</a></h2>,\n",
       " <h2 class=\"css-m604qf\"><a class=\"css-o171kl\" href=\"/jobs/p/123dzktUWSha-Data-Analyst-Lecico-Egypt-Alexandria-Egypt?o=7&amp;l=sp&amp;t=sj&amp;a=data analysis|search-v3|spbg\" rel=\"noreferrer\" target=\"_blank\">Data Analyst</a></h2>,\n",
       " <h2 class=\"css-m604qf\"><a class=\"css-o171kl\" href=\"/jobs/p/SmiRP57Qnyx1-Data-Analyst---Quality-Assurance-Department-IdealRatings-Cairo-Egypt?o=8&amp;l=sp&amp;t=sj&amp;a=data analysis|search-v3|spbg\" rel=\"noreferrer\" target=\"_blank\">Data Analyst - Quality Assurance Department</a></h2>,\n",
       " <h2 class=\"css-m604qf\"><a class=\"css-o171kl\" href=\"/jobs/p/gPlkgoEtHL4N-Senior-Data-Engineer--Banha-Z2-Data-Qalubia-Egypt?o=9&amp;l=sp&amp;t=sj&amp;a=data analysis|search-v3|spbg\" rel=\"noreferrer\" target=\"_blank\">Senior Data Engineer- Banha</a></h2>,\n",
       " <h2 class=\"css-m604qf\"><a class=\"css-o171kl\" href=\"/jobs/p/njfYW6M0SxCi-Junior-Data-Engineer---Benha-Z2-Data-Qalubia-Egypt?o=10&amp;l=sp&amp;t=sj&amp;a=data analysis|search-v3|spbg\" rel=\"noreferrer\" target=\"_blank\">Junior Data Engineer - Benha</a></h2>,\n",
       " <h2 class=\"css-m604qf\"><a class=\"css-o171kl\" href=\"/jobs/p/ecDQZn7zPGxQ-Senior-Data-Analyst-Z2-Data-Cairo-Egypt?o=11&amp;l=sp&amp;t=sj&amp;a=data analysis|search-v3|spbg\" rel=\"noreferrer\" target=\"_blank\">Senior Data Analyst</a></h2>,\n",
       " <h2 class=\"css-m604qf\"><a class=\"css-o171kl\" href=\"/jobs/p/r23QlbZLj34c-Senior-Financial-Data-Analyst-Z2-Data-Cairo-Egypt?o=12&amp;l=sp&amp;t=sj&amp;a=data analysis|search-v3|spbg\" rel=\"noreferrer\" target=\"_blank\">Senior Financial Data Analyst</a></h2>,\n",
       " <h2 class=\"css-m604qf\"><a class=\"css-o171kl\" href=\"/jobs/p/JeFJXhJWDb4O-Junior-Financial-Data-Analyst-Z2-Data-Cairo-Egypt?o=13&amp;l=sp&amp;t=sj&amp;a=data analysis|search-v3|spbg\" rel=\"noreferrer\" target=\"_blank\">Junior Financial Data Analyst</a></h2>,\n",
       " <h2 class=\"css-m604qf\"><a class=\"css-o171kl\" href=\"/jobs/p/5JCxxhUwHrzn-Data-Analyst---Banha-Z2-Data-Qalubia-Egypt?o=14&amp;l=sp&amp;t=sj&amp;a=data analysis|search-v3|spbg\" rel=\"noreferrer\" target=\"_blank\">Data Analyst - Banha</a></h2>,\n",
       " <h2 class=\"css-m604qf\"><a class=\"css-o171kl\" href=\"/jobs/p/XUci2nTpbcnI-Data-Entry-Clerk-Parkville-Pharmaceuticals-Qalubia-Egypt?o=15&amp;l=sp&amp;t=sj&amp;a=data analysis|search-v3|spbg\" rel=\"noreferrer\" target=\"_blank\">Data Entry Clerk</a></h2>]"
      ]
     },
     "execution_count": 47,
     "metadata": {},
     "output_type": "execute_result"
    }
   ],
   "source": [
    "titles = soup.find_all('h2' , attrs={'class':'css-m604qf'})\n",
    "titles"
   ]
  },
  {
   "cell_type": "code",
   "execution_count": 49,
   "id": "4ecf53a3",
   "metadata": {},
   "outputs": [
    {
     "data": {
      "text/plain": [
       "['Data Analysis Instructor (Excel - Power BI)',\n",
       " 'Senior Data Analyst - Cairo',\n",
       " 'Data Analyst',\n",
       " 'Data Analyst',\n",
       " 'Senior Data Scientist',\n",
       " 'Data Engineer',\n",
       " 'Data Analyst',\n",
       " 'Data Analyst - Quality Assurance Department',\n",
       " 'Senior Data Engineer- Banha',\n",
       " 'Junior Data Engineer - Benha',\n",
       " 'Senior Data Analyst',\n",
       " 'Senior Financial Data Analyst',\n",
       " 'Junior Financial Data Analyst',\n",
       " 'Data Analyst - Banha',\n",
       " 'Data Entry Clerk']"
      ]
     },
     "execution_count": 49,
     "metadata": {},
     "output_type": "execute_result"
    }
   ],
   "source": [
    "job_titles=[]\n",
    "for title in titles:\n",
    "        job_titles.append(title.text.strip())\n",
    "job_titles"
   ]
  },
  {
   "cell_type": "code",
   "execution_count": 51,
   "id": "048343ec",
   "metadata": {},
   "outputs": [
    {
     "data": {
      "text/plain": [
       "[<span class=\"css-5wys0k\">Nasr City, <!-- -->Cairo, <!-- -->Egypt </span>,\n",
       " <span class=\"css-5wys0k\">Cairo, <!-- -->Egypt </span>,\n",
       " <span class=\"css-5wys0k\">Maadi, <!-- -->Cairo, <!-- -->Egypt </span>,\n",
       " <span class=\"css-5wys0k\">New Cairo, <!-- -->Cairo, <!-- -->Egypt </span>,\n",
       " <span class=\"css-5wys0k\">Sheraton, <!-- -->Cairo, <!-- -->Egypt </span>,\n",
       " <span class=\"css-5wys0k\">Maadi, <!-- -->Cairo, <!-- -->Egypt </span>,\n",
       " <span class=\"css-5wys0k\">Alexandria, <!-- -->Egypt </span>,\n",
       " <span class=\"css-5wys0k\">Heliopolis, <!-- -->Cairo, <!-- -->Egypt </span>,\n",
       " <span class=\"css-5wys0k\">Qalubia, <!-- -->Egypt </span>,\n",
       " <span class=\"css-5wys0k\">Banha, <!-- -->Qalubia, <!-- -->Egypt </span>,\n",
       " <span class=\"css-5wys0k\">Nasr City, <!-- -->Cairo, <!-- -->Egypt </span>,\n",
       " <span class=\"css-5wys0k\">Nasr City, <!-- -->Cairo, <!-- -->Egypt </span>,\n",
       " <span class=\"css-5wys0k\">Nasr City, <!-- -->Cairo, <!-- -->Egypt </span>,\n",
       " <span class=\"css-5wys0k\">Banha, <!-- -->Qalubia, <!-- -->Egypt </span>,\n",
       " <span class=\"css-5wys0k\">Qalyub, <!-- -->Qalubia, <!-- -->Egypt </span>]"
      ]
     },
     "execution_count": 51,
     "metadata": {},
     "output_type": "execute_result"
    }
   ],
   "source": [
    "locations=soup.find_all('span' , attrs={'class':'css-5wys0k'})\n",
    "locations"
   ]
  },
  {
   "cell_type": "code",
   "execution_count": 52,
   "id": "d8efeb49",
   "metadata": {},
   "outputs": [
    {
     "data": {
      "text/plain": [
       "['Nasr City, Cairo, Egypt',\n",
       " 'Cairo, Egypt',\n",
       " 'Maadi, Cairo, Egypt',\n",
       " 'New Cairo, Cairo, Egypt',\n",
       " 'Sheraton, Cairo, Egypt',\n",
       " 'Maadi, Cairo, Egypt',\n",
       " 'Alexandria, Egypt',\n",
       " 'Heliopolis, Cairo, Egypt',\n",
       " 'Qalubia, Egypt',\n",
       " 'Banha, Qalubia, Egypt',\n",
       " 'Nasr City, Cairo, Egypt',\n",
       " 'Nasr City, Cairo, Egypt',\n",
       " 'Nasr City, Cairo, Egypt',\n",
       " 'Banha, Qalubia, Egypt',\n",
       " 'Qalyub, Qalubia, Egypt']"
      ]
     },
     "execution_count": 52,
     "metadata": {},
     "output_type": "execute_result"
    }
   ],
   "source": [
    "job_locations=[]\n",
    "for location in locations:\n",
    "        job_locations.append(location.text.strip())\n",
    "job_locations"
   ]
  },
  {
   "cell_type": "code",
   "execution_count": 55,
   "id": "38a6cd39",
   "metadata": {},
   "outputs": [
    {
     "data": {
      "text/plain": [
       "[<a class=\"css-17s97q8\" href=\"https://wuzzuf.net/jobs/careers/EpsilonAI-Egypt-65111\" rel=\"noreferrer\" target=\"_blank\">EpsilonAI -</a>,\n",
       " <a class=\"css-17s97q8\" rel=\"noreferrer\" target=\"_blank\">Confidential -</a>,\n",
       " <a class=\"css-17s97q8\" href=\"https://wuzzuf.net/jobs/careers/Hands of Hope Physical Therapy &amp; Wellness-Egypt-76168\" rel=\"noreferrer\" target=\"_blank\">Hands of Hope Physical Therapy &amp; Wellness -</a>,\n",
       " <a class=\"css-17s97q8\" href=\"https://wuzzuf.net/jobs/careers/Gila-Electric-Egypt-23151\" rel=\"noreferrer\" target=\"_blank\">Gila Electric -</a>,\n",
       " <a class=\"css-17s97q8\" href=\"https://wuzzuf.net/jobs/careers/Fixed-Solutions-Egypt-18523\" rel=\"noreferrer\" target=\"_blank\">Fixed Solutions -</a>,\n",
       " <a class=\"css-17s97q8\" href=\"https://wuzzuf.net/jobs/careers/Cilantro-Egypt-69955\" rel=\"noreferrer\" target=\"_blank\">Cilantro -</a>,\n",
       " <a class=\"css-17s97q8\" href=\"https://wuzzuf.net/jobs/careers/Lecico-Egypt-Egypt-14389\" rel=\"noreferrer\" target=\"_blank\">Lecico Egypt -</a>,\n",
       " <a class=\"css-17s97q8\" href=\"https://wuzzuf.net/jobs/careers/IdealRatings-Egypt-4076\" rel=\"noreferrer\" target=\"_blank\">IdealRatings -</a>,\n",
       " <a class=\"css-17s97q8\" href=\"https://wuzzuf.net/jobs/careers/Z2-Data-Egypt-10002\" rel=\"noreferrer\" target=\"_blank\">Z2 Data -</a>,\n",
       " <a class=\"css-17s97q8\" href=\"https://wuzzuf.net/jobs/careers/Z2-Data-Egypt-10002\" rel=\"noreferrer\" target=\"_blank\">Z2 Data -</a>,\n",
       " <a class=\"css-17s97q8\" href=\"https://wuzzuf.net/jobs/careers/Z2-Data-Egypt-10002\" rel=\"noreferrer\" target=\"_blank\">Z2 Data -</a>,\n",
       " <a class=\"css-17s97q8\" href=\"https://wuzzuf.net/jobs/careers/Z2-Data-Egypt-10002\" rel=\"noreferrer\" target=\"_blank\">Z2 Data -</a>,\n",
       " <a class=\"css-17s97q8\" href=\"https://wuzzuf.net/jobs/careers/Z2-Data-Egypt-10002\" rel=\"noreferrer\" target=\"_blank\">Z2 Data -</a>,\n",
       " <a class=\"css-17s97q8\" href=\"https://wuzzuf.net/jobs/careers/Z2-Data-Egypt-10002\" rel=\"noreferrer\" target=\"_blank\">Z2 Data -</a>,\n",
       " <a class=\"css-17s97q8\" href=\"https://wuzzuf.net/jobs/careers/Parkville-Pharmaceuticals-Egypt-9968\" rel=\"noreferrer\" target=\"_blank\">Parkville Pharmaceuticals -</a>]"
      ]
     },
     "execution_count": 55,
     "metadata": {},
     "output_type": "execute_result"
    }
   ],
   "source": [
    "companies_names=soup.find_all('a' , attrs={'class':'css-17s97q8'})\n",
    "companies_names"
   ]
  },
  {
   "cell_type": "code",
   "execution_count": 56,
   "id": "9dfe0502",
   "metadata": {},
   "outputs": [
    {
     "data": {
      "text/plain": [
       "['EpsilonAI -',\n",
       " 'Confidential -',\n",
       " 'Hands of Hope Physical Therapy & Wellness -',\n",
       " 'Gila Electric -',\n",
       " 'Fixed Solutions -',\n",
       " 'Cilantro -',\n",
       " 'Lecico Egypt -',\n",
       " 'IdealRatings -',\n",
       " 'Z2 Data -',\n",
       " 'Z2 Data -',\n",
       " 'Z2 Data -',\n",
       " 'Z2 Data -',\n",
       " 'Z2 Data -',\n",
       " 'Z2 Data -',\n",
       " 'Parkville Pharmaceuticals -']"
      ]
     },
     "execution_count": 56,
     "metadata": {},
     "output_type": "execute_result"
    }
   ],
   "source": [
    "job_companies_names=[]\n",
    "for company_name in companies_names:\n",
    "        job_companies_names.append(company_name.text.strip())\n",
    "job_companies_names"
   ]
  },
  {
   "cell_type": "code",
   "execution_count": 60,
   "id": "1e147e3b",
   "metadata": {},
   "outputs": [
    {
     "data": {
      "text/plain": [
       "[<div class=\"css-y4udm8\"><style data-emotion=\"css 1lh32fc\">.css-1lh32fc{display:-webkit-box;display:-webkit-flex;display:-ms-flexbox;display:flex;margin-bottom:8px;-webkit-align-items:center;-webkit-box-align:center;-ms-flex-align:center;align-items:center;-webkit-box-flex-wrap:wrap;-webkit-flex-wrap:wrap;-ms-flex-wrap:wrap;flex-wrap:wrap;}</style><div class=\"css-1lh32fc\"><style data-emotion=\"css n2jc4m\">.css-n2jc4m{display:-webkit-inline-box;display:-webkit-inline-flex;display:-ms-inline-flexbox;display:inline-flex;-webkit-align-items:center;-webkit-box-align:center;-ms-flex-align:center;align-items:center;-webkit-text-decoration:none;text-decoration:none;color:inherit;margin-bottom:4px;}</style><a class=\"css-n2jc4m\" href=\"/a/Full-Time-Jobs-in-Egypt\"><style data-emotion=\"css adtuo7\">.css-adtuo7{cursor:pointer;padding:0 4px;border-radius:4px;}</style><style data-emotion=\"css 1ve4b75\">.css-1ve4b75{font-size:12px;font-weight:600;display:-webkit-inline-box;display:-webkit-inline-flex;display:-ms-inline-flexbox;display:inline-flex;-webkit-align-items:center;-webkit-box-align:center;-ms-flex-align:center;align-items:center;min-height:20px;margin-right:4px;border-radius:2px;max-width:196px;white-space:nowrap;overflow:hidden;cursor:default;text-overflow:ellipsis;padding:2px 4px;background-color:#EBEDF0;color:#001433;cursor:pointer;padding:0 4px;border-radius:4px;}</style><span class=\"css-1ve4b75 eoyjyou0\">Full Time</span></a><a class=\"css-n2jc4m\" href=\"/a/Part-Time-Jobs-in-Egypt\"><span class=\"css-1ve4b75 eoyjyou0\">Part Time</span></a><a class=\"css-n2jc4m\" href=\"/a/Freelance-Project-Jobs-in-Egypt\"><span class=\"css-1ve4b75 eoyjyou0\">Freelance / Project</span></a></div><div><a class=\"css-o171kl\" href=\"/a/Entry-Level-Jobs-in-Egypt\">Entry Level</a> <span>· <!-- -->1+ Yrs of Exp</span><a class=\"css-o171kl\" href=\"/a/IT-Software-Development-Jobs-in-Egypt\"> <!-- -->· <!-- -->IT/Software Development</a><a class=\"css-o171kl\" href=\"/a/Analyst-Research-Jobs-in-Egypt\"> <!-- -->· <!-- -->Analyst/Research</a><a class=\"css-o171kl\" href=\"/a/Training-Instructor-Jobs-in-Egypt\"> <!-- -->· <!-- -->Training/Instructor</a> <!-- -->·<!-- --> <style data-emotion=\"css 5x9pm1\">.css-5x9pm1{-webkit-text-decoration:none;text-decoration:none;color:inherit;max-width:calc(100vw / 2 - 32px);white-space:nowrap;overflow:hidden;text-overflow:ellipsis;display:-webkit-inline-box;display:-webkit-inline-flex;display:-ms-inline-flexbox;display:inline-flex;}</style><a class=\"css-5x9pm1\" href=\"/a/Analysis-Jobs-in-Egypt\"><span><strong class=\"highlight\">Analysis</strong></span></a><a class=\"css-5x9pm1\" href=\"/a/Business-Jobs-in-Egypt\"> <!-- -->· <!-- -->business</a><a class=\"css-5x9pm1\" href=\"/a/Business-Intelligence-Jobs-in-Egypt\"> <!-- -->· <!-- -->Business Intelligence</a> <!-- -->·<!-- --> <a class=\"css-5x9pm1\" href=\"/a/Data-Analysis-Jobs-in-Egypt\"><span><strong class=\"highlight\">Data</strong><span> </span><strong class=\"highlight\">Analysis</strong></span></a><a class=\"css-5x9pm1\" href=\"/a/Computer-Science-Jobs-in-Egypt\"> <!-- -->· <!-- -->Computer Science</a><a class=\"css-5x9pm1\" href=\"/a/Power-BI-Jobs-in-Egypt\"> <!-- -->· <!-- -->Power BI</a><a class=\"css-5x9pm1\" href=\"/a/SQL-Jobs-in-Egypt\"> <!-- -->· <!-- -->SQL</a></div></div>,\n",
       " <div class=\"css-y4udm8\"><div class=\"css-1lh32fc\"><a class=\"css-n2jc4m\" href=\"/a/Full-Time-Jobs-in-Egypt\"><span class=\"css-1ve4b75 eoyjyou0\">Full Time</span></a></div><div><a class=\"css-o171kl\" href=\"/a/Experienced-Jobs-in-Egypt\">Experienced</a> <span>· <!-- -->5 - 9 Yrs of Exp</span><a class=\"css-o171kl\" href=\"/a/IT-Software-Development-Jobs-in-Egypt\"> <!-- -->· <!-- -->IT/Software Development</a><a class=\"css-o171kl\" href=\"/a/Analyst-Research-Jobs-in-Egypt\"> <!-- -->· <!-- -->Analyst/Research</a><a class=\"css-o171kl\" href=\"/a/Engineering-Telecom-Technology-Jobs-in-Egypt\"> <!-- -->· <!-- -->Engineering - Telecom/Technology</a> <!-- -->·<!-- --> <a class=\"css-5x9pm1\" href=\"/a/Data-Jobs-in-Egypt\"><span><strong class=\"highlight\">Data</strong></span></a><a class=\"css-5x9pm1\" href=\"/a/Google-Analytics-Jobs-in-Egypt\"> <!-- -->· <!-- -->Google Analytics</a><a class=\"css-5x9pm1\" href=\"/a/Marketing-Jobs-in-Egypt\"> <!-- -->· <!-- -->Marketing</a><a class=\"css-5x9pm1\" href=\"/a/Management-Jobs-in-Egypt\"> <!-- -->· <!-- -->Management</a><a class=\"css-5x9pm1\" href=\"/a/MS-Office-Jobs-in-Egypt\"> <!-- -->· <!-- -->MS Office</a><a class=\"css-5x9pm1\" href=\"/a/RSC-Jobs-in-Egypt\"> <!-- -->· <!-- -->RSC</a> <!-- -->·<!-- --> <a class=\"css-5x9pm1\" href=\"/a/Analysis-Jobs-in-Egypt\"><span><strong class=\"highlight\">Analysis</strong></span></a></div></div>,\n",
       " <div class=\"css-y4udm8\"><div class=\"css-1lh32fc\"><a class=\"css-n2jc4m\" href=\"/a/Full-Time-Jobs-in-Egypt\"><span class=\"css-1ve4b75 eoyjyou0\">Full Time</span></a></div><div><a class=\"css-o171kl\" href=\"/a/Experienced-Jobs-in-Egypt\">Experienced</a> <span>· <!-- -->3 - 18 Yrs of Exp</span><a class=\"css-o171kl\" href=\"/a/IT-Software-Development-Jobs-in-Egypt\"> <!-- -->· <!-- -->IT/Software Development</a><a class=\"css-o171kl\" href=\"/a/Analyst-Research-Jobs-in-Egypt\"> <!-- -->· <!-- -->Analyst/Research</a> <!-- -->·<!-- --> <a class=\"css-5x9pm1\" href=\"/a/Analysis-Jobs-in-Egypt\"><span><strong class=\"highlight\">Analysis</strong></span></a><a class=\"css-5x9pm1\" href=\"/a/Analyst-Jobs-in-Egypt\"> <!-- -->· <!-- -->Analyst</a> <!-- -->·<!-- --> <a class=\"css-5x9pm1\" href=\"/a/Data-Jobs-in-Egypt\"><span><strong class=\"highlight\">Data</strong></span></a> <!-- -->·<!-- --> <a class=\"css-5x9pm1\" href=\"/a/Data-Analysis-Jobs-in-Egypt\"><span><strong class=\"highlight\">Data</strong><span> </span><strong class=\"highlight\">Analysis</strong></span></a> <!-- -->·<!-- --> <a class=\"css-5x9pm1\" href=\"/a/Data-Analyst-Jobs-in-Egypt\"><span><strong class=\"highlight\">Data</strong><span> Analyst</span></span></a><a class=\"css-5x9pm1\" href=\"/a/Information-Technology-IT-Jobs-in-Egypt\"> <!-- -->· <!-- -->Information Technology (IT)</a><a class=\"css-5x9pm1\" href=\"/a/Tableau-Jobs-in-Egypt\"> <!-- -->· <!-- -->Tableau</a><a class=\"css-5x9pm1\" href=\"/a/SPSS-Jobs-in-Egypt\"> <!-- -->· <!-- -->SPSS</a></div></div>,\n",
       " <div class=\"css-y4udm8\"><div class=\"css-1lh32fc\"><a class=\"css-n2jc4m\" href=\"/a/Full-Time-Jobs-in-Egypt\"><span class=\"css-1ve4b75 eoyjyou0\">Full Time</span></a></div><div><a class=\"css-o171kl\" href=\"/a/Experienced-Jobs-in-Egypt\">Experienced</a> <span>· <!-- -->2 - 4 Yrs of Exp</span><a class=\"css-o171kl\" href=\"/a/Accounting-Finance-Jobs-in-Egypt\"> <!-- -->· <!-- -->Accounting/Finance</a><a class=\"css-o171kl\" href=\"/a/IT-Software-Development-Jobs-in-Egypt\"> <!-- -->· <!-- -->IT/Software Development</a><a class=\"css-o171kl\" href=\"/a/Analyst-Research-Jobs-in-Egypt\"> <!-- -->· <!-- -->Analyst/Research</a> <!-- -->·<!-- --> <a class=\"css-5x9pm1\" href=\"/a/Analysis-Jobs-in-Egypt\"><span><strong class=\"highlight\">Analysis</strong></span></a><a class=\"css-5x9pm1\" href=\"/a/Business-Jobs-in-Egypt\"> <!-- -->· <!-- -->business</a><a class=\"css-5x9pm1\" href=\"/a/Computer-Science-Jobs-in-Egypt\"> <!-- -->· <!-- -->Computer Science</a><a class=\"css-5x9pm1\" href=\"/a/Commerce-Jobs-in-Egypt\"> <!-- -->· <!-- -->Commerce</a><a class=\"css-5x9pm1\" href=\"/a/Analytical-Jobs-in-Egypt\"> <!-- -->· <!-- -->analytical</a><a class=\"css-5x9pm1\" href=\"/a/Communication-Skills-Jobs-in-Egypt\"> <!-- -->· <!-- -->Communication skills</a><a class=\"css-5x9pm1\" href=\"/a/Analyst-Jobs-in-Egypt\"> <!-- -->· <!-- -->Analyst</a></div></div>,\n",
       " <div class=\"css-y4udm8\"><div class=\"css-1lh32fc\"><a class=\"css-n2jc4m\" href=\"/a/Full-Time-Jobs-in-Egypt\"><span class=\"css-1ve4b75 eoyjyou0\">Full Time</span></a></div><div><a class=\"css-o171kl\" href=\"/a/Experienced-Jobs-in-Egypt\">Experienced</a> <span>· <!-- -->5+ Yrs of Exp</span><a class=\"css-o171kl\" href=\"/a/IT-Software-Development-Jobs-in-Egypt\"> <!-- -->· <!-- -->IT/Software Development</a><a class=\"css-o171kl\" href=\"/a/Engineering-Telecom-Technology-Jobs-in-Egypt\"> <!-- -->· <!-- -->Engineering - Telecom/Technology</a> <!-- -->·<!-- --> <a class=\"css-5x9pm1\" href=\"/a/Analysis-Jobs-in-Egypt\"><span><strong class=\"highlight\">Analysis</strong></span></a><a class=\"css-5x9pm1\" href=\"/a/APIs-Jobs-in-Egypt\"> <!-- -->· <!-- -->APIs</a><a class=\"css-5x9pm1\" href=\"/a/Computer-Science-Jobs-in-Egypt\"> <!-- -->· <!-- -->Computer Science</a><a class=\"css-5x9pm1\" href=\"/a/Engineering-Jobs-in-Egypt\"> <!-- -->· <!-- -->Engineering</a><a class=\"css-5x9pm1\" href=\"/a/Information-Technology-IT-Jobs-in-Egypt\"> <!-- -->· <!-- -->Information Technology (IT)</a><a class=\"css-5x9pm1\" href=\"/a/Java-Jobs-in-Egypt\"> <!-- -->· <!-- -->Java</a><a class=\"css-5x9pm1\" href=\"/a/Programming-Jobs-in-Egypt\"> <!-- -->· <!-- -->Programming</a><a class=\"css-5x9pm1\" href=\"/a/Software-Jobs-in-Egypt\"> <!-- -->· <!-- -->Software</a></div></div>,\n",
       " <div class=\"css-y4udm8\"><div class=\"css-1lh32fc\"><a class=\"css-n2jc4m\" href=\"/a/Full-Time-Jobs-in-Egypt\"><span class=\"css-1ve4b75 eoyjyou0\">Full Time</span></a></div><div><a class=\"css-o171kl\" href=\"/a/Entry-Level-Jobs-in-Egypt\">Entry Level</a> <span>· <!-- -->1 - 3 Yrs of Exp</span><a class=\"css-o171kl\" href=\"/a/IT-Software-Development-Jobs-in-Egypt\"> <!-- -->· <!-- -->IT/Software Development</a><a class=\"css-o171kl\" href=\"/a/Analyst-Research-Jobs-in-Egypt\"> <!-- -->· <!-- -->Analyst/Research</a><a class=\"css-o171kl\" href=\"/a/Engineering-Telecom-Technology-Jobs-in-Egypt\"> <!-- -->· <!-- -->Engineering - Telecom/Technology</a> <!-- -->·<!-- --> <a class=\"css-5x9pm1\" href=\"/a/Data-Science-Jobs-in-Egypt\"><span><strong class=\"highlight\">Data</strong><span> Science</span></span></a> <!-- -->·<!-- --> <a class=\"css-5x9pm1\" href=\"/a/Data-Analysis-Jobs-in-Egypt\"><span><strong class=\"highlight\">Data</strong><span> </span><strong class=\"highlight\">Analysis</strong></span></a> <!-- -->·<!-- --> <a class=\"css-5x9pm1\" href=\"/a/Data-Analytics-Jobs-in-Egypt\"><span><strong class=\"highlight\">Data</strong><span> Analytics</span></span></a> <!-- -->·<!-- --> <a class=\"css-5x9pm1\" href=\"/a/Data-Engineering-Jobs-in-Egypt\"><span><strong class=\"highlight\">Data</strong><span> Engineering</span></span></a> <!-- -->·<!-- --> <a class=\"css-5x9pm1\" href=\"/a/Data-Jobs-in-Egypt\"><span><strong class=\"highlight\">Data</strong></span></a> <!-- -->·<!-- --> <a class=\"css-5x9pm1\" href=\"/a/Database-Jobs-in-Egypt\"><span><strong class=\"highlight\">Data</strong><span>base</span></span></a><a class=\"css-5x9pm1\" href=\"/a/Information-Technology-IT-Jobs-in-Egypt\"> <!-- -->· <!-- -->Information Technology (IT)</a></div></div>,\n",
       " <div class=\"css-y4udm8\"><div class=\"css-1lh32fc\"><a class=\"css-n2jc4m\" href=\"/a/Full-Time-Jobs-in-Egypt\"><span class=\"css-1ve4b75 eoyjyou0\">Full Time</span></a></div><div><a class=\"css-o171kl\" href=\"/a/Experienced-Jobs-in-Egypt\">Experienced</a> <span>· <!-- -->2 - 5 Yrs of Exp</span><a class=\"css-o171kl\" href=\"/a/Analyst-Research-Jobs-in-Egypt\"> <!-- -->· <!-- -->Analyst/Research</a> <!-- -->·<!-- --> <a class=\"css-5x9pm1\" href=\"/a/Analysis-Jobs-in-Egypt\"><span><strong class=\"highlight\">Analysis</strong></span></a> <!-- -->·<!-- --> <a class=\"css-5x9pm1\" href=\"/a/Data-Analyst-Jobs-in-Egypt\"><span><strong class=\"highlight\">Data</strong><span> Analyst</span></span></a> <!-- -->·<!-- --> <a class=\"css-5x9pm1\" href=\"/a/Data-Analysis-Jobs-in-Egypt\"><span><strong class=\"highlight\">Data</strong><span> </span><strong class=\"highlight\">Analysis</strong></span></a><a class=\"css-5x9pm1\" href=\"/a/Analyst-Jobs-in-Egypt\"> <!-- -->· <!-- -->Analyst</a><a class=\"css-5x9pm1\" href=\"/a/English-Jobs-in-Egypt\"> <!-- -->· <!-- -->English</a></div></div>,\n",
       " <div class=\"css-y4udm8\"><div class=\"css-1lh32fc\"><a class=\"css-n2jc4m\" href=\"/a/Full-Time-Jobs-in-Egypt\"><span class=\"css-1ve4b75 eoyjyou0\">Full Time</span></a></div><div><a class=\"css-o171kl\" href=\"/a/Entry-Level-Jobs-in-Egypt\">Entry Level</a> <span>· <!-- -->0 - 2 Yrs of Exp</span><a class=\"css-o171kl\" href=\"/a/Accounting-Finance-Jobs-in-Egypt\"> <!-- -->· <!-- -->Accounting/Finance</a><a class=\"css-o171kl\" href=\"/a/Quality-Jobs-in-Egypt\"> <!-- -->· <!-- -->Quality</a><a class=\"css-o171kl\" href=\"/a/Analyst-Research-Jobs-in-Egypt\"> <!-- -->· <!-- -->Analyst/Research</a><a class=\"css-5x9pm1\" href=\"/a/Finance-Jobs-in-Egypt\"> <!-- -->· <!-- -->Finance</a><a class=\"css-5x9pm1\" href=\"/a/Quality-Assurance-Jobs-in-Egypt\"> <!-- -->· <!-- -->Quality Assurance</a><a class=\"css-5x9pm1\" href=\"/a/Economic-Statistics-Jobs-in-Egypt\"> <!-- -->· <!-- -->Economic Statistics</a><a class=\"css-5x9pm1\" href=\"/a/Skills-Jobs-in-Egypt\"> <!-- -->· <!-- -->Skills</a><a class=\"css-5x9pm1\" href=\"/a/Detail-Oriented-Jobs-in-Egypt\"> <!-- -->· <!-- -->Detail Oriented</a><a class=\"css-5x9pm1\" href=\"/a/QA-Jobs-in-Egypt\"> <!-- -->· <!-- -->QA</a><a class=\"css-5x9pm1\" href=\"/a/English-Jobs-in-Egypt\"> <!-- -->· <!-- -->English</a></div></div>,\n",
       " <div class=\"css-y4udm8\"><div class=\"css-1lh32fc\"><a class=\"css-n2jc4m\" href=\"/a/Full-Time-Jobs-in-Egypt\"><span class=\"css-1ve4b75 eoyjyou0\">Full Time</span></a></div><div><a class=\"css-o171kl\" href=\"/a/Experienced-Jobs-in-Egypt\">Experienced</a> <span>· <!-- -->3 - 5 Yrs of Exp</span><a class=\"css-o171kl\" href=\"/a/IT-Software-Development-Jobs-in-Egypt\"> <!-- -->· <!-- -->IT/Software Development</a><a class=\"css-o171kl\" href=\"/a/Analyst-Research-Jobs-in-Egypt\"> <!-- -->· <!-- -->Analyst/Research</a><a class=\"css-o171kl\" href=\"/a/Engineering-Jobs-in-Egypt\"> <!-- -->· <!-- -->Engineering - Other</a> <!-- -->·<!-- --> <a class=\"css-5x9pm1\" href=\"/a/Data-Jobs-in-Egypt\"><span><strong class=\"highlight\">Data</strong></span></a><a class=\"css-5x9pm1\" href=\"/a/Communication-Jobs-in-Egypt\"> <!-- -->· <!-- -->Communication</a><a class=\"css-5x9pm1\" href=\"/a/MS-Office-Jobs-in-Egypt\"> <!-- -->· <!-- -->MS Office</a> <!-- -->·<!-- --> <a class=\"css-5x9pm1\" href=\"/a/Analysis-Jobs-in-Egypt\"><span><strong class=\"highlight\">Analysis</strong></span></a><a class=\"css-5x9pm1\" href=\"/a/Engineering-Jobs-in-Egypt\"> <!-- -->· <!-- -->Engineering</a><a class=\"css-5x9pm1\" href=\"/a/Computer-Science-Jobs-in-Egypt\"> <!-- -->· <!-- -->Computer Science</a> <!-- -->·<!-- --> <a class=\"css-5x9pm1\" href=\"/a/Data-Administration-Jobs-in-Egypt\"><span><strong class=\"highlight\">Data</strong><span> Administration</span></span></a></div></div>,\n",
       " <div class=\"css-y4udm8\"><div class=\"css-1lh32fc\"><a class=\"css-n2jc4m\" href=\"/a/Full-Time-Jobs-in-Egypt\"><span class=\"css-1ve4b75 eoyjyou0\">Full Time</span></a></div><div><a class=\"css-o171kl\" href=\"/a/Entry-Level-Jobs-in-Egypt\">Entry Level</a> <span>· <!-- -->0 - 1 Yrs of Exp</span><a class=\"css-o171kl\" href=\"/a/Business-Jobs-in-Egypt\"> <!-- -->· <!-- -->Business Development</a> <!-- -->·<!-- --> <a class=\"css-5x9pm1\" href=\"/a/Analysis-Jobs-in-Egypt\"><span><strong class=\"highlight\">Analysis</strong></span></a><a class=\"css-5x9pm1\" href=\"/a/Communication-Jobs-in-Egypt\"> <!-- -->· <!-- -->Communication</a> <!-- -->·<!-- --> <a class=\"css-5x9pm1\" href=\"/a/Data-Jobs-in-Egypt\"><span><strong class=\"highlight\">Data</strong></span></a><a class=\"css-5x9pm1\" href=\"/a/Electrical-Jobs-in-Egypt\"> <!-- -->· <!-- -->Electrical</a><a class=\"css-5x9pm1\" href=\"/a/Engineering-Jobs-in-Egypt\"> <!-- -->· <!-- -->Engineering</a></div></div>,\n",
       " <div class=\"css-y4udm8\"><div class=\"css-1lh32fc\"><a class=\"css-n2jc4m\" href=\"/a/Full-Time-Jobs-in-Egypt\"><span class=\"css-1ve4b75 eoyjyou0\">Full Time</span></a></div><div><a class=\"css-o171kl\" href=\"/a/Experienced-Jobs-in-Egypt\">Experienced</a> <span>· <!-- -->2 - 4 Yrs of Exp</span><a class=\"css-o171kl\" href=\"/a/Analyst-Research-Jobs-in-Egypt\"> <!-- -->· <!-- -->Analyst/Research</a> <!-- -->·<!-- --> <a class=\"css-5x9pm1\" href=\"/a/Data-Analysis-Jobs-in-Egypt\"><span><strong class=\"highlight\">Data</strong><span> </span><strong class=\"highlight\">Analysis</strong></span></a> <!-- -->·<!-- --> <a class=\"css-5x9pm1\" href=\"/a/Analysis-Jobs-in-Egypt\"><span><strong class=\"highlight\">Analysis</strong></span></a><a class=\"css-5x9pm1\" href=\"/a/Administration-Jobs-in-Egypt\"> <!-- -->· <!-- -->Administration</a><a class=\"css-5x9pm1\" href=\"/a/Computer-Science-Jobs-in-Egypt\"> <!-- -->· <!-- -->Computer Science</a> <!-- -->·<!-- --> <a class=\"css-5x9pm1\" href=\"/a/Data-Analyst-Jobs-in-Egypt\"><span><strong class=\"highlight\">Data</strong><span> Analyst</span></span></a> <!-- -->·<!-- --> <a class=\"css-5x9pm1\" href=\"/a/Database-Jobs-in-Egypt\"><span><strong class=\"highlight\">Data</strong><span>base</span></span></a> <!-- -->·<!-- --> <a class=\"css-5x9pm1\" href=\"/a/Data-Jobs-in-Egypt\"><span><strong class=\"highlight\">Data</strong></span></a><a class=\"css-5x9pm1\" href=\"/a/Analyst-Jobs-in-Egypt\"> <!-- -->· <!-- -->Analyst</a><a class=\"css-5x9pm1\" href=\"/a/Information-Technology-IT-Jobs-in-Egypt\"> <!-- -->· <!-- -->Information Technology (IT)</a></div></div>,\n",
       " <div class=\"css-y4udm8\"><div class=\"css-1lh32fc\"><a class=\"css-n2jc4m\" href=\"/a/Full-Time-Jobs-in-Egypt\"><span class=\"css-1ve4b75 eoyjyou0\">Full Time</span></a></div><div><a class=\"css-o171kl\" href=\"/a/Experienced-Jobs-in-Egypt\">Experienced</a> <span>· <!-- -->3 - 5 Yrs of Exp</span><a class=\"css-o171kl\" href=\"/a/Accounting-Finance-Jobs-in-Egypt\"> <!-- -->· <!-- -->Accounting/Finance</a><a class=\"css-o171kl\" href=\"/a/Analyst-Research-Jobs-in-Egypt\"> <!-- -->· <!-- -->Analyst/Research</a> <!-- -->·<!-- --> <a class=\"css-5x9pm1\" href=\"/a/Analysis-Jobs-in-Egypt\"><span><strong class=\"highlight\">Analysis</strong></span></a><a class=\"css-5x9pm1\" href=\"/a/Accounting-Jobs-in-Egypt\"> <!-- -->· <!-- -->Accounting</a><a class=\"css-5x9pm1\" href=\"/a/Financial-Jobs-in-Egypt\"> <!-- -->· <!-- -->Financial</a><a class=\"css-5x9pm1\" href=\"/a/Communication-Skills-Jobs-in-Egypt\"> <!-- -->· <!-- -->Communication skills</a><a class=\"css-5x9pm1\" href=\"/a/Commerce-Jobs-in-Egypt\"> <!-- -->· <!-- -->Commerce</a><a class=\"css-5x9pm1\" href=\"/a/CFA-Jobs-in-Egypt\"> <!-- -->· <!-- -->CFA</a> <!-- -->·<!-- --> <a class=\"css-5x9pm1\" href=\"/a/Data-Jobs-in-Egypt\"><span><strong class=\"highlight\">Data</strong></span></a> <!-- -->·<!-- --> <a class=\"css-5x9pm1\" href=\"/a/Data-Analysis-Jobs-in-Egypt\"><span><strong class=\"highlight\">Data</strong><span> </span><strong class=\"highlight\">Analysis</strong></span></a></div></div>,\n",
       " <div class=\"css-y4udm8\"><div class=\"css-1lh32fc\"><a class=\"css-n2jc4m\" href=\"/a/Full-Time-Jobs-in-Egypt\"><span class=\"css-1ve4b75 eoyjyou0\">Full Time</span></a></div><div><a class=\"css-o171kl\" href=\"/a/Entry-Level-Jobs-in-Egypt\">Entry Level</a> <span>· <!-- -->0 - 1 Yrs of Exp</span><a class=\"css-o171kl\" href=\"/a/Accounting-Finance-Jobs-in-Egypt\"> <!-- -->· <!-- -->Accounting/Finance</a><a class=\"css-o171kl\" href=\"/a/Analyst-Research-Jobs-in-Egypt\"> <!-- -->· <!-- -->Analyst/Research</a> <!-- -->·<!-- --> <a class=\"css-5x9pm1\" href=\"/a/Analysis-Jobs-in-Egypt\"><span><strong class=\"highlight\">Analysis</strong></span></a><a class=\"css-5x9pm1\" href=\"/a/Accounting-Jobs-in-Egypt\"> <!-- -->· <!-- -->Accounting</a> <!-- -->·<!-- --> <a class=\"css-5x9pm1\" href=\"/a/Financial-Analysis-Jobs-in-Egypt\"><span><span>Financial </span><strong class=\"highlight\">Analysis</strong></span></a><a class=\"css-5x9pm1\" href=\"/a/Financial-Statements-Jobs-in-Egypt\"> <!-- -->· <!-- -->Financial Statements</a><a class=\"css-5x9pm1\" href=\"/a/Commerce-Jobs-in-Egypt\"> <!-- -->· <!-- -->Commerce</a><a class=\"css-5x9pm1\" href=\"/a/Communication-Skills-Jobs-in-Egypt\"> <!-- -->· <!-- -->Communication skills</a> <!-- -->·<!-- --> <a class=\"css-5x9pm1\" href=\"/a/Data-Jobs-in-Egypt\"><span><strong class=\"highlight\">Data</strong></span></a> <!-- -->·<!-- --> <a class=\"css-5x9pm1\" href=\"/a/Data-Analysis-Jobs-in-Egypt\"><span><strong class=\"highlight\">Data</strong><span> </span><strong class=\"highlight\">Analysis</strong></span></a></div></div>,\n",
       " <div class=\"css-y4udm8\"><div class=\"css-1lh32fc\"><a class=\"css-n2jc4m\" href=\"/a/Full-Time-Jobs-in-Egypt\"><span class=\"css-1ve4b75 eoyjyou0\">Full Time</span></a></div><div><a class=\"css-o171kl\" href=\"/a/Entry-Level-Jobs-in-Egypt\">Entry Level</a> <span>· <!-- -->0 - 3 Yrs of Exp</span><a class=\"css-o171kl\" href=\"/a/Business-Jobs-in-Egypt\"> <!-- -->· <!-- -->Business Development</a><a class=\"css-o171kl\" href=\"/a/Analyst-Research-Jobs-in-Egypt\"> <!-- -->· <!-- -->Analyst/Research</a> <!-- -->·<!-- --> <a class=\"css-5x9pm1\" href=\"/a/Analysis-Jobs-in-Egypt\"><span><strong class=\"highlight\">Analysis</strong></span></a><a class=\"css-5x9pm1\" href=\"/a/Commerce-Jobs-in-Egypt\"> <!-- -->· <!-- -->Commerce</a><a class=\"css-5x9pm1\" href=\"/a/Computer-Science-Jobs-in-Egypt\"> <!-- -->· <!-- -->Computer Science</a> <!-- -->·<!-- --> <a class=\"css-5x9pm1\" href=\"/a/Data-Analysis-Jobs-in-Egypt\"><span><strong class=\"highlight\">Data</strong><span> </span><strong class=\"highlight\">Analysis</strong></span></a><a class=\"css-5x9pm1\" href=\"/a/English-Jobs-in-Egypt\"> <!-- -->· <!-- -->English</a><a class=\"css-5x9pm1\" href=\"/a/MS-Office-Jobs-in-Egypt\"> <!-- -->· <!-- -->MS Office</a><a class=\"css-5x9pm1\" href=\"/a/Information-Technology-IT-Jobs-in-Egypt\"> <!-- -->· <!-- -->Information Technology (IT)</a></div></div>,\n",
       " <div class=\"css-y4udm8\"><div class=\"css-1lh32fc\"><a class=\"css-n2jc4m\" href=\"/a/Full-Time-Jobs-in-Egypt\"><span class=\"css-1ve4b75 eoyjyou0\">Full Time</span></a></div><div><a class=\"css-o171kl\" href=\"/a/Experienced-Jobs-in-Egypt\">Experienced</a> <span>· <!-- -->3 - 5 Yrs of Exp</span><a class=\"css-o171kl\" href=\"/a/Administration-Jobs-in-Egypt\"> <!-- -->· <!-- -->Administration</a><a class=\"css-5x9pm1\" href=\"/a/Excel-Jobs-in-Egypt\"> <!-- -->· <!-- -->excel</a><a class=\"css-5x9pm1\" href=\"/a/Microsoft-Jobs-in-Egypt\"> <!-- -->· <!-- -->Microsoft</a> <!-- -->·<!-- --> <a class=\"css-5x9pm1\" href=\"/a/Numerical-Analysis-Jobs-in-Egypt\"><span><span>Numerical </span><strong class=\"highlight\">Analysis</strong></span></a> <!-- -->·<!-- --> <a class=\"css-5x9pm1\" href=\"/a/Data-Entry-Jobs-in-Egypt\"><span><strong class=\"highlight\">Data</strong><span> Entry</span></span></a><a class=\"css-5x9pm1\" href=\"/a/Administration-Jobs-in-Egypt\"> <!-- -->· <!-- -->Administration</a><a class=\"css-5x9pm1\" href=\"/a/Customer-Service-Jobs-in-Egypt\"> <!-- -->· <!-- -->Customer Service</a></div></div>]"
      ]
     },
     "execution_count": 60,
     "metadata": {},
     "output_type": "execute_result"
    }
   ],
   "source": [
    "descriptions=soup.find_all('div' , attrs={'class':'css-y4udm8'})\n",
    "descriptions"
   ]
  },
  {
   "cell_type": "code",
   "execution_count": 63,
   "id": "e1f86774",
   "metadata": {
    "scrolled": true
   },
   "outputs": [
    {
     "data": {
      "text/plain": [
       "['Full TimePart TimeFreelance / ProjectEntry Level · 1+ Yrs of Exp · IT/Software Development · Analyst/Research · Training/Instructor · Analysis · business · Business Intelligence · Data Analysis · Computer Science · Power BI · SQL',\n",
       " 'Full TimeExperienced · 5 - 9 Yrs of Exp · IT/Software Development · Analyst/Research · Engineering - Telecom/Technology · Data · Google Analytics · Marketing · Management · MS Office · RSC · Analysis',\n",
       " 'Full TimeExperienced · 3 - 18 Yrs of Exp · IT/Software Development · Analyst/Research · Analysis · Analyst · Data · Data Analysis · Data Analyst · Information Technology (IT) · Tableau · SPSS',\n",
       " 'Full TimeExperienced · 2 - 4 Yrs of Exp · Accounting/Finance · IT/Software Development · Analyst/Research · Analysis · business · Computer Science · Commerce · analytical · Communication skills · Analyst',\n",
       " 'Full TimeExperienced · 5+ Yrs of Exp · IT/Software Development · Engineering - Telecom/Technology · Analysis · APIs · Computer Science · Engineering · Information Technology (IT) · Java · Programming · Software',\n",
       " 'Full TimeEntry Level · 1 - 3 Yrs of Exp · IT/Software Development · Analyst/Research · Engineering - Telecom/Technology · Data Science · Data Analysis · Data Analytics · Data Engineering · Data · Database · Information Technology (IT)',\n",
       " 'Full TimeExperienced · 2 - 5 Yrs of Exp · Analyst/Research · Analysis · Data Analyst · Data Analysis · Analyst · English',\n",
       " 'Full TimeEntry Level · 0 - 2 Yrs of Exp · Accounting/Finance · Quality · Analyst/Research · Finance · Quality Assurance · Economic Statistics · Skills · Detail Oriented · QA · English',\n",
       " 'Full TimeExperienced · 3 - 5 Yrs of Exp · IT/Software Development · Analyst/Research · Engineering - Other · Data · Communication · MS Office · Analysis · Engineering · Computer Science · Data Administration',\n",
       " 'Full TimeEntry Level · 0 - 1 Yrs of Exp · Business Development · Analysis · Communication · Data · Electrical · Engineering',\n",
       " 'Full TimeExperienced · 2 - 4 Yrs of Exp · Analyst/Research · Data Analysis · Analysis · Administration · Computer Science · Data Analyst · Database · Data · Analyst · Information Technology (IT)',\n",
       " 'Full TimeExperienced · 3 - 5 Yrs of Exp · Accounting/Finance · Analyst/Research · Analysis · Accounting · Financial · Communication skills · Commerce · CFA · Data · Data Analysis',\n",
       " 'Full TimeEntry Level · 0 - 1 Yrs of Exp · Accounting/Finance · Analyst/Research · Analysis · Accounting · Financial Analysis · Financial Statements · Commerce · Communication skills · Data · Data Analysis',\n",
       " 'Full TimeEntry Level · 0 - 3 Yrs of Exp · Business Development · Analyst/Research · Analysis · Commerce · Computer Science · Data Analysis · English · MS Office · Information Technology (IT)',\n",
       " 'Full TimeExperienced · 3 - 5 Yrs of Exp · Administration · excel · Microsoft · Numerical Analysis · Data Entry · Administration · Customer Service']"
      ]
     },
     "execution_count": 63,
     "metadata": {},
     "output_type": "execute_result"
    }
   ],
   "source": [
    "job_descriptions=[]\n",
    "for job_description in descriptions:\n",
    "        job_descriptions.append(job_description.text.strip())\n",
    "job_descriptions"
   ]
  },
  {
   "cell_type": "code",
   "execution_count": 64,
   "id": "ee27cf6f",
   "metadata": {},
   "outputs": [],
   "source": [
    "import pandas as pd"
   ]
  },
  {
   "cell_type": "code",
   "execution_count": 65,
   "id": "ba043ad0",
   "metadata": {},
   "outputs": [
    {
     "data": {
      "text/html": [
       "<div>\n",
       "<style scoped>\n",
       "    .dataframe tbody tr th:only-of-type {\n",
       "        vertical-align: middle;\n",
       "    }\n",
       "\n",
       "    .dataframe tbody tr th {\n",
       "        vertical-align: top;\n",
       "    }\n",
       "\n",
       "    .dataframe thead th {\n",
       "        text-align: right;\n",
       "    }\n",
       "</style>\n",
       "<table border=\"1\" class=\"dataframe\">\n",
       "  <thead>\n",
       "    <tr style=\"text-align: right;\">\n",
       "      <th></th>\n",
       "      <th>job_titles</th>\n",
       "      <th>job_locations</th>\n",
       "      <th>job_companies_names</th>\n",
       "      <th>job_descriptions</th>\n",
       "    </tr>\n",
       "  </thead>\n",
       "  <tbody>\n",
       "    <tr>\n",
       "      <th>0</th>\n",
       "      <td>Data Analysis Instructor (Excel - Power BI)</td>\n",
       "      <td>Nasr City, Cairo, Egypt</td>\n",
       "      <td>EpsilonAI -</td>\n",
       "      <td>Full TimePart TimeFreelance / ProjectEntry Lev...</td>\n",
       "    </tr>\n",
       "    <tr>\n",
       "      <th>1</th>\n",
       "      <td>Senior Data Analyst - Cairo</td>\n",
       "      <td>Cairo, Egypt</td>\n",
       "      <td>Confidential -</td>\n",
       "      <td>Full TimeExperienced · 5 - 9 Yrs of Exp · IT/S...</td>\n",
       "    </tr>\n",
       "    <tr>\n",
       "      <th>2</th>\n",
       "      <td>Data Analyst</td>\n",
       "      <td>Maadi, Cairo, Egypt</td>\n",
       "      <td>Hands of Hope Physical Therapy &amp; Wellness -</td>\n",
       "      <td>Full TimeExperienced · 3 - 18 Yrs of Exp · IT/...</td>\n",
       "    </tr>\n",
       "    <tr>\n",
       "      <th>3</th>\n",
       "      <td>Data Analyst</td>\n",
       "      <td>New Cairo, Cairo, Egypt</td>\n",
       "      <td>Gila Electric -</td>\n",
       "      <td>Full TimeExperienced · 2 - 4 Yrs of Exp · Acco...</td>\n",
       "    </tr>\n",
       "    <tr>\n",
       "      <th>4</th>\n",
       "      <td>Senior Data Scientist</td>\n",
       "      <td>Sheraton, Cairo, Egypt</td>\n",
       "      <td>Fixed Solutions -</td>\n",
       "      <td>Full TimeExperienced · 5+ Yrs of Exp · IT/Soft...</td>\n",
       "    </tr>\n",
       "    <tr>\n",
       "      <th>5</th>\n",
       "      <td>Data Engineer</td>\n",
       "      <td>Maadi, Cairo, Egypt</td>\n",
       "      <td>Cilantro -</td>\n",
       "      <td>Full TimeEntry Level · 1 - 3 Yrs of Exp · IT/S...</td>\n",
       "    </tr>\n",
       "    <tr>\n",
       "      <th>6</th>\n",
       "      <td>Data Analyst</td>\n",
       "      <td>Alexandria, Egypt</td>\n",
       "      <td>Lecico Egypt -</td>\n",
       "      <td>Full TimeExperienced · 2 - 5 Yrs of Exp · Anal...</td>\n",
       "    </tr>\n",
       "    <tr>\n",
       "      <th>7</th>\n",
       "      <td>Data Analyst - Quality Assurance Department</td>\n",
       "      <td>Heliopolis, Cairo, Egypt</td>\n",
       "      <td>IdealRatings -</td>\n",
       "      <td>Full TimeEntry Level · 0 - 2 Yrs of Exp · Acco...</td>\n",
       "    </tr>\n",
       "    <tr>\n",
       "      <th>8</th>\n",
       "      <td>Senior Data Engineer- Banha</td>\n",
       "      <td>Qalubia, Egypt</td>\n",
       "      <td>Z2 Data -</td>\n",
       "      <td>Full TimeExperienced · 3 - 5 Yrs of Exp · IT/S...</td>\n",
       "    </tr>\n",
       "    <tr>\n",
       "      <th>9</th>\n",
       "      <td>Junior Data Engineer - Benha</td>\n",
       "      <td>Banha, Qalubia, Egypt</td>\n",
       "      <td>Z2 Data -</td>\n",
       "      <td>Full TimeEntry Level · 0 - 1 Yrs of Exp · Busi...</td>\n",
       "    </tr>\n",
       "    <tr>\n",
       "      <th>10</th>\n",
       "      <td>Senior Data Analyst</td>\n",
       "      <td>Nasr City, Cairo, Egypt</td>\n",
       "      <td>Z2 Data -</td>\n",
       "      <td>Full TimeExperienced · 2 - 4 Yrs of Exp · Anal...</td>\n",
       "    </tr>\n",
       "    <tr>\n",
       "      <th>11</th>\n",
       "      <td>Senior Financial Data Analyst</td>\n",
       "      <td>Nasr City, Cairo, Egypt</td>\n",
       "      <td>Z2 Data -</td>\n",
       "      <td>Full TimeExperienced · 3 - 5 Yrs of Exp · Acco...</td>\n",
       "    </tr>\n",
       "    <tr>\n",
       "      <th>12</th>\n",
       "      <td>Junior Financial Data Analyst</td>\n",
       "      <td>Nasr City, Cairo, Egypt</td>\n",
       "      <td>Z2 Data -</td>\n",
       "      <td>Full TimeEntry Level · 0 - 1 Yrs of Exp · Acco...</td>\n",
       "    </tr>\n",
       "    <tr>\n",
       "      <th>13</th>\n",
       "      <td>Data Analyst - Banha</td>\n",
       "      <td>Banha, Qalubia, Egypt</td>\n",
       "      <td>Z2 Data -</td>\n",
       "      <td>Full TimeEntry Level · 0 - 3 Yrs of Exp · Busi...</td>\n",
       "    </tr>\n",
       "    <tr>\n",
       "      <th>14</th>\n",
       "      <td>Data Entry Clerk</td>\n",
       "      <td>Qalyub, Qalubia, Egypt</td>\n",
       "      <td>Parkville Pharmaceuticals -</td>\n",
       "      <td>Full TimeExperienced · 3 - 5 Yrs of Exp · Admi...</td>\n",
       "    </tr>\n",
       "  </tbody>\n",
       "</table>\n",
       "</div>"
      ],
      "text/plain": [
       "                                     job_titles             job_locations  \\\n",
       "0   Data Analysis Instructor (Excel - Power BI)   Nasr City, Cairo, Egypt   \n",
       "1                   Senior Data Analyst - Cairo              Cairo, Egypt   \n",
       "2                                  Data Analyst       Maadi, Cairo, Egypt   \n",
       "3                                  Data Analyst   New Cairo, Cairo, Egypt   \n",
       "4                         Senior Data Scientist    Sheraton, Cairo, Egypt   \n",
       "5                                 Data Engineer       Maadi, Cairo, Egypt   \n",
       "6                                  Data Analyst         Alexandria, Egypt   \n",
       "7   Data Analyst - Quality Assurance Department  Heliopolis, Cairo, Egypt   \n",
       "8                   Senior Data Engineer- Banha            Qalubia, Egypt   \n",
       "9                  Junior Data Engineer - Benha     Banha, Qalubia, Egypt   \n",
       "10                          Senior Data Analyst   Nasr City, Cairo, Egypt   \n",
       "11                Senior Financial Data Analyst   Nasr City, Cairo, Egypt   \n",
       "12                Junior Financial Data Analyst   Nasr City, Cairo, Egypt   \n",
       "13                         Data Analyst - Banha     Banha, Qalubia, Egypt   \n",
       "14                             Data Entry Clerk    Qalyub, Qalubia, Egypt   \n",
       "\n",
       "                            job_companies_names  \\\n",
       "0                                   EpsilonAI -   \n",
       "1                                Confidential -   \n",
       "2   Hands of Hope Physical Therapy & Wellness -   \n",
       "3                               Gila Electric -   \n",
       "4                             Fixed Solutions -   \n",
       "5                                    Cilantro -   \n",
       "6                                Lecico Egypt -   \n",
       "7                                IdealRatings -   \n",
       "8                                     Z2 Data -   \n",
       "9                                     Z2 Data -   \n",
       "10                                    Z2 Data -   \n",
       "11                                    Z2 Data -   \n",
       "12                                    Z2 Data -   \n",
       "13                                    Z2 Data -   \n",
       "14                  Parkville Pharmaceuticals -   \n",
       "\n",
       "                                     job_descriptions  \n",
       "0   Full TimePart TimeFreelance / ProjectEntry Lev...  \n",
       "1   Full TimeExperienced · 5 - 9 Yrs of Exp · IT/S...  \n",
       "2   Full TimeExperienced · 3 - 18 Yrs of Exp · IT/...  \n",
       "3   Full TimeExperienced · 2 - 4 Yrs of Exp · Acco...  \n",
       "4   Full TimeExperienced · 5+ Yrs of Exp · IT/Soft...  \n",
       "5   Full TimeEntry Level · 1 - 3 Yrs of Exp · IT/S...  \n",
       "6   Full TimeExperienced · 2 - 5 Yrs of Exp · Anal...  \n",
       "7   Full TimeEntry Level · 0 - 2 Yrs of Exp · Acco...  \n",
       "8   Full TimeExperienced · 3 - 5 Yrs of Exp · IT/S...  \n",
       "9   Full TimeEntry Level · 0 - 1 Yrs of Exp · Busi...  \n",
       "10  Full TimeExperienced · 2 - 4 Yrs of Exp · Anal...  \n",
       "11  Full TimeExperienced · 3 - 5 Yrs of Exp · Acco...  \n",
       "12  Full TimeEntry Level · 0 - 1 Yrs of Exp · Acco...  \n",
       "13  Full TimeEntry Level · 0 - 3 Yrs of Exp · Busi...  \n",
       "14  Full TimeExperienced · 3 - 5 Yrs of Exp · Admi...  "
      ]
     },
     "execution_count": 65,
     "metadata": {},
     "output_type": "execute_result"
    }
   ],
   "source": [
    "pd.DataFrame({'job_titles':job_titles,'job_locations':job_locations,'job_companies_names':job_companies_names,'job_descriptions':job_descriptions})"
   ]
  },
  {
   "cell_type": "code",
   "execution_count": null,
   "id": "93744fb9",
   "metadata": {},
   "outputs": [],
   "source": []
  }
 ],
 "metadata": {
  "kernelspec": {
   "display_name": "Python 3 (ipykernel)",
   "language": "python",
   "name": "python3"
  },
  "language_info": {
   "codemirror_mode": {
    "name": "ipython",
    "version": 3
   },
   "file_extension": ".py",
   "mimetype": "text/x-python",
   "name": "python",
   "nbconvert_exporter": "python",
   "pygments_lexer": "ipython3",
   "version": "3.9.12"
  }
 },
 "nbformat": 4,
 "nbformat_minor": 5
}
